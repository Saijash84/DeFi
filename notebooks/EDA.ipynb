{
 "cells": [
  {
   "cell_type": "markdown",
   "metadata": {},
   "source": [
    "# Aave Wallet Credit Score Analysis"
   ]
  },
  {
   "cell_type": "code",
   "execution_count": null,
   "metadata": {},
   "source": [
    "import pandas as pd
",
    "import numpy as np
",
    "import seaborn as sns
",
    "import matplotlib.pyplot as plt
",
    "from pathlib import Path
",
    "import warnings
",
    "warnings.filterwarnings('ignore')
",
    "plt.style.use('seaborn')
",
    "plt.rcParams['figure.figsize'] = (12, 8)"
   ]
  },
  {
   "cell_type": "markdown",
   "metadata": {},
   "source": [
    "## Load Data"
   ]
  },
  {
   "cell_type": "code",
   "execution_count": null,
   "metadata": {},
   "source": [
    "# Load scores from CSV
",
    "scores_df = pd.read_csv('../wallet_scores.csv')
",
    "\n",
    "# Display basic information
",
    "print(f'Number of wallets: {len(scores_df)}')\n",
    "scores_df.head()"
   ]
  },
  {
   "cell_type": "markdown",
   "metadata": {},
   "source": [
    "## Score Distribution Analysis"
   ]
  },
  {
   "cell_type": "code",
   "execution_count": null,
   "metadata": {},
   "source": [
    "# Plot score distribution
",
    "plt.figure(figsize=(12, 8))
",
    "sns.histplot(data=scores_df, x='score', bins=50, kde=True)
",
    "plt.title('Credit Score Distribution', size=16)
",
    "plt.xlabel('Credit Score', size=14)
",
    "plt.ylabel('Number of Wallets', size=14)
",
    "plt.grid(True, alpha=0.3)
",
    "plt.savefig('../analysis/score_distribution.png', bbox_inches='tight')
",
    "plt.show()"
   ]
  },
  {
   "cell_type": "code",
   "execution_count": null,
   "metadata": {},
   "source": [
    "# Calculate summary statistics
",
    "score_stats = scores_df['score'].describe()
",
    "print("\nScore Statistics:")
",
    "print(score_stats)\n",
    "\n",
    "# Calculate risk category distribution
",
    "risk_categories = pd.cut(
",
    "    scores_df['score'],
",
    "    bins=[0, 400, 600, 1000],
",
    "    labels=['High Risk', 'Medium Risk', 'Low Risk']
",
    ")\n",
    "\n",
    "print("\nRisk Category Distribution:")
",
    "print(risk_categories.value_counts(normalize=True) * 100)"
   ]
  },
  {
   "cell_type": "markdown",
   "metadata": {},
   "source": [
    "## Analysis of Extreme Score Ranges"
   ]
  },
  {
   "cell_type": "code",
   "execution_count": null,
   "metadata": {},
   "source": [
    "# Analyze wallets in 0-100 range
",
    "low_score_wallets = scores_df[scores_df['score'].between(0, 100)]
",
    "print(f"\nNumber of wallets in 0-100 range: {len(low_score_wallets)}")\n",
    "\n",
    "# Analyze wallets in 900-1000 range
",
    "high_score_wallets = scores_df[scores_df['score'].between(900, 1000)]
",
    "print(f"Number of wallets in 900-1000 range: {len(high_score_wallets)}")"
   ]
  },
  {
   "cell_type": "markdown",
   "metadata": {},
   "source": [
    "### Behavior Analysis of Low Score Wallets (0-100)"
   ]
  },
  {
   "cell_type": "code",
   "execution_count": null,
   "metadata": {},
   "source": [
    "# Load feature data for analysis
",
    "features_df = pd.read_csv('../data/wallet_features.csv')\n",
    "\n",
    "# Merge features with scores
",
    "low_score_features = pd.merge(
",
    "    low_score_wallets,
",
    "    features_df,
",
    "    on='wallet_address',
",
    "    how='left'
",
    ")\n",
    "\n",
    "# Calculate average metrics for low score wallets
",
    "low_score_metrics = {
",
    "    'avg_deposit_to_borrow_ratio': low_score_features['deposit_to_borrow_ratio'].mean(),
",
    "    'avg_liquidation_ratio': low_score_features['liquidation_ratio'].mean(),
",
    "    'avg_activity_span_days': low_score_features['activity_span_days'].mean(),
",
    "    'avg_last_activity_days_ago': low_score_features['last_activity_days_ago'].mean()
",
    "}\n",
    "\n",
    "print("\nAverage Metrics for Low Score Wallets:")
",
    "for metric, value in low_score_metrics.items():
",
    "    print(f"{metric}: {value:.2f}")"
   ]
  },
  {
   "cell_type": "markdown",
   "metadata": {},
   "source": [
    "### Behavior Analysis of High Score Wallets (900-1000)"
   ]
  },
  {
   "cell_type": "code",
   "execution_count": null,
   "metadata": {},
   "source": [
    "# Calculate average metrics for high score wallets
",
    "high_score_features = pd.merge(
",
    "    high_score_wallets,
",
    "    features_df,
",
    "    on='wallet_address',
",
    "    how='left'
",
    ")\n",
    "\n",
    "high_score_metrics = {
",
    "    'avg_deposit_to_borrow_ratio': high_score_features['deposit_to_borrow_ratio'].mean(),
",
    "    'avg_liquidation_ratio': high_score_features['liquidation_ratio'].mean(),
",
    "    'avg_activity_span_days': high_score_features['activity_span_days'].mean(),
",
    "    'avg_last_activity_days_ago': high_score_features['last_activity_days_ago'].mean()
",
    "}\n",
    "\n",
    "print("\nAverage Metrics for High Score Wallets:")
",
    "for metric, value in high_score_metrics.items():
",
    "    print(f"{metric}: {value:.2f}")"
   ]
  },
  {
   "cell_type": "markdown",
   "metadata": {},
   "source": [
    "## Key Insights"
   ]
  },
  {
   "cell_type": "markdown",
   "metadata": {},
   "source": [
    "### Low Score Wallets (0-100) Characteristics:\n",
    "- High liquidation ratios (indicating frequent liquidations)\n",
    "- Very low deposit-to-borrow ratios\n",
    "- Short activity spans\n",
    "- Recent or frequent activity (potentially bot-like behavior)\n",
    "- High risk of default\n",
    "\n",
    "### High Score Wallets (900-1000) Characteristics:\n",
    "- High deposit-to-borrow ratios (conservative borrowing)\n",
    "- Low liquidation ratios (responsible borrowing)\n",
    "- Long activity spans (established users)\n",
    "- Consistent activity patterns\n",
    "- Low risk of default"
   ]
  },
  {
   "cell_type": "markdown",
   "metadata": {},
   "source": [
    "## Recommendations"
   ]
  },
  {
   "cell_type": "markdown",
   "metadata": {},
   "source": [
    "1. Monitor wallets in the 0-100 range for potential bot activity or high-risk behavior\n",
    "2. Consider implementing additional verification for wallets in the high-risk category\n",
    "3. Analyze the distribution of scores over time to detect any patterns or anomalies\n",
    "4. Consider adding more features to better differentiate between different types of low-score wallets"
   ]
  }
 ],
 "metadata": {
  "kernelspec": {
   "display_name": "Python 3",
   "language": "python",
   "name": "python3"
  },
  "language_info": {
   "codemirror_mode": {
    "name": "ipython",
    "version": 3
   },
   "file_extension": ".py",
   "mimetype": "text/x-python",
   "name": "python",
   "nbconvert_exporter": "python",
   "pygments_lexer": "ipython3",
   "version": "3.8.0"
  }
 },
 "nbformat": 4,
 "nbformat_minor": 4
}
